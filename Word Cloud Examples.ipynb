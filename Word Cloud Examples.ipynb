{
 "cells": [
  {
   "cell_type": "code",
   "execution_count": null,
   "metadata": {
    "collapsed": true
   },
   "outputs": [],
   "source": [
    "wc=WordCloud()\n",
    "texts=['It works used works for any interable, not just lists. Disadvantage is that its not in place.','the','used','used','used','We now need to create the vocabulary vocabulary vocabulary vocabulary vocab vocab vocab and start the counting process. We can use the CountVectorizer to create a vocabulary from all the text in our']\n",
    "embed_code=wc.get_embed_code(texts,random_color=False,topn=100)\n",
    "print(embed_code)"
   ]
  }
 ],
 "metadata": {
  "kernelspec": {
   "display_name": "Python 2",
   "language": "python",
   "name": "python2"
  },
  "language_info": {
   "codemirror_mode": {
    "name": "ipython",
    "version": 2
   },
   "file_extension": ".py",
   "mimetype": "text/x-python",
   "name": "python",
   "nbconvert_exporter": "python",
   "pygments_lexer": "ipython2",
   "version": "2.7.6"
  }
 },
 "nbformat": 4,
 "nbformat_minor": 0
}
