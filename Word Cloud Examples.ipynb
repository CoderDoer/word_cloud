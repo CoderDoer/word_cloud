{
 "cells": [
  {
   "cell_type": "code",
   "execution_count": 4,
   "metadata": {},
   "outputs": [
    {
     "data": {
      "text/html": [
       "<div align='center' style='width:100%'><div align='center' style='text-align:justify; border-radius: 25px;background: #fff7f7;overflow: auto; width:500px !important; padding:20px; '; text-align: center; word-wrap: break-word;> <span style='color:#bc72d0;font-size:1.1em;white-space: normal;font-family:verdana;display: inline-block;line-height:30px'>near&nbsp;</span> <span style='color:#bc72d0;font-size:1.1em;white-space: normal;font-family:verdana;display: inline-block;line-height:30px'>forecast&nbsp;</span> <span style='color:#FF5733;font-size:2.0em;white-space: normal;font-family:verdana;display: inline-block;line-height:30px'>rainfall&nbsp;</span> <span style='color:#bc72d0;font-size:1.1em;white-space: normal;font-family:verdana;display: inline-block;line-height:30px'>forecasters&nbsp;</span> <span style='color:#5F6A6A;font-size:2.8999999999999995em;white-space: normal;font-family:verdana;display: inline-block;line-height:30px'>center&nbsp;</span> <span style='color:#8000FF;font-size:1.4000000000000001em;white-space: normal;font-family:verdana;display: inline-block;line-height:30px'>cause&nbsp;</span> <span style='color:#3498DB;font-size:1.7000000000000002em;white-space: normal;font-family:verdana;display: inline-block;line-height:30px'>coast&nbsp;</span> <span style='color:#bc72d0;font-size:1.1em;white-space: normal;font-family:verdana;display: inline-block;line-height:30px'>oct&nbsp;</span> <span style='color:#bc72d0;font-size:1.1em;white-space: normal;font-family:verdana;display: inline-block;line-height:30px'>path&nbsp;</span> <span style='color:#8000FF;font-size:1.4000000000000001em;white-space: normal;font-family:verdana;display: inline-block;line-height:30px'>life&nbsp;</span> <span style='color:#3498DB;font-size:1.7000000000000002em;white-space: normal;font-family:verdana;display: inline-block;line-height:30px'>miles&nbsp;</span> <span style='color:#bc72d0;font-size:1.1em;white-space: normal;font-family:verdana;display: inline-block;line-height:30px'>projected&nbsp;</span> <span style='color:#bc72d0;font-size:1.1em;white-space: normal;font-family:verdana;display: inline-block;line-height:30px'>mazatlan&nbsp;</span> <span style='color:#bc72d0;font-size:1.1em;white-space: normal;font-family:verdana;display: inline-block;line-height:30px'>makes&nbsp;</span> <span style='color:#CE22E6;font-size:3.0em;white-space: normal;font-family:verdana;display: inline-block;line-height:30px'>hurricane&nbsp;</span> <span style='color:#bc72d0;font-size:1.1em;white-space: normal;font-family:verdana;display: inline-block;line-height:30px'>produce&nbsp;</span> <span style='color:#bc72d0;font-size:1.1em;white-space: normal;font-family:verdana;display: inline-block;line-height:30px'>shows&nbsp;</span> <span style='color:#ACB02E;font-size:3.0em;white-space: normal;font-family:verdana;display: inline-block;line-height:30px'>willa&nbsp;</span> <span style='color:#bc72d0;font-size:1.1em;white-space: normal;font-family:verdana;display: inline-block;line-height:30px'>category&nbsp;</span> <span style='color:#bc72d0;font-size:1.1em;white-space: normal;font-family:verdana;display: inline-block;line-height:30px'>south&nbsp;</span> <span style='color:#bc72d0;font-size:1.1em;white-space: normal;font-family:verdana;display: inline-block;line-height:30px'>warning&nbsp;</span> <span style='color:#bc72d0;font-size:1.1em;white-space: normal;font-family:verdana;display: inline-block;line-height:30px'>map&nbsp;</span> <span style='color:#bc72d0;font-size:1.1em;white-space: normal;font-family:verdana;display: inline-block;line-height:30px'>surge&nbsp;</span> <span style='color:#8000FF;font-size:1.4000000000000001em;white-space: normal;font-family:verdana;display: inline-block;line-height:30px'>mph&nbsp;</span> <span style='color:#8000FF;font-size:1.4000000000000001em;white-space: normal;font-family:verdana;display: inline-block;line-height:30px'>flooding&nbsp;</span> <span style='color:#bc72d0;font-size:1.1em;white-space: normal;font-family:verdana;display: inline-block;line-height:30px'>tuesday&nbsp;</span> <span style='color:#bc72d0;font-size:1.1em;white-space: normal;font-family:verdana;display: inline-block;line-height:30px'>local&nbsp;</span> <span style='color:#bc72d0;font-size:1.1em;white-space: normal;font-family:verdana;display: inline-block;line-height:30px'>north&nbsp;</span> <span style='color:#3498DB;font-size:1.7000000000000002em;white-space: normal;font-family:verdana;display: inline-block;line-height:30px'>winds&nbsp;</span> <span style='color:#bc72d0;font-size:1.1em;white-space: normal;font-family:verdana;display: inline-block;line-height:30px'>landfall&nbsp;</span> <span style='color:#3498DB;font-size:1.7000000000000002em;white-space: normal;font-family:verdana;display: inline-block;line-height:30px'>national&nbsp;</span> <span style='color:#bc72d0;font-size:1.1em;white-space: normal;font-family:verdana;display: inline-block;line-height:30px'>san&nbsp;</span> <span style='color:#bc72d0;font-size:1.1em;white-space: normal;font-family:verdana;display: inline-block;line-height:30px'>southern&nbsp;</span> <span style='color:#bc72d0;font-size:1.1em;white-space: normal;font-family:verdana;display: inline-block;line-height:30px'>outward&nbsp;</span> <span style='color:#bc72d0;font-size:1.1em;white-space: normal;font-family:verdana;display: inline-block;line-height:30px'>portions&nbsp;</span> <span style='color:#8000FF;font-size:1.4000000000000001em;white-space: normal;font-family:verdana;display: inline-block;line-height:30px'>11&nbsp;</span> <span style='color:#bc72d0;font-size:1.1em;white-space: normal;font-family:verdana;display: inline-block;line-height:30px'>southwest&nbsp;</span> <span style='color:#5F6A6A;font-size:2.8999999999999995em;white-space: normal;font-family:verdana;display: inline-block;line-height:30px'>mexico&nbsp;</span> <span style='color:#FF5733;font-size:2.0em;white-space: normal;font-family:verdana;display: inline-block;line-height:30px'>storm&nbsp;</span> <span style='color:#8000FF;font-size:1.4000000000000001em;white-space: normal;font-family:verdana;display: inline-block;line-height:30px'>threatening&nbsp;</span> <span style='color:#bc72d0;font-size:1.1em;white-space: normal;font-family:verdana;display: inline-block;line-height:30px'>flash&nbsp;</span> <span style='color:#8000FF;font-size:1.4000000000000001em;white-space: normal;font-family:verdana;display: inline-block;line-height:30px'>expected&nbsp;</span> <span style='color:#FF5733;font-size:2.0em;white-space: normal;font-family:verdana;display: inline-block;line-height:30px'>inches&nbsp;</span> <span style='color:#bc72d0;font-size:1.1em;white-space: normal;font-family:verdana;display: inline-block;line-height:30px'>extended&nbsp;</span> <span style='color:#8000FF;font-size:1.4000000000000001em;white-space: normal;font-family:verdana;display: inline-block;line-height:30px'>et&nbsp;</span> <span style='color:#bc72d0;font-size:1.1em;white-space: normal;font-family:verdana;display: inline-block;line-height:30px'>tropical&nbsp;</span> <span style='color:#bc72d0;font-size:1.1em;white-space: normal;font-family:verdana;display: inline-block;line-height:30px'>force&nbsp;</span> <span style='color:#bc72d0;font-size:1.1em;white-space: normal;font-family:verdana;display: inline-block;line-height:30px'>western&nbsp;</span> <span style='color:#8000FF;font-size:1.4000000000000001em;white-space: normal;font-family:verdana;display: inline-block;line-height:30px'>amounts&nbsp;</span> <span style='color:#bc72d0;font-size:1.1em;white-space: normal;font-family:verdana;display: inline-block;line-height:30px'>major&nbsp;</span></div></div>"
      ],
      "text/plain": [
       "<IPython.core.display.HTML object>"
      ]
     },
     "execution_count": 4,
     "metadata": {},
     "output_type": "execute_result"
    }
   ],
   "source": [
    "from word_cloud.word_cloud import WordCloud\n",
    "from IPython.core.display import HTML\n",
    "\n",
    "ENGLISH_STOP_WORDS = frozenset([\n",
    "    \"a\", \"about\", \"above\", \"across\", \"after\", \"afterwards\", \"again\", \"against\",\n",
    "    \"all\", \"almost\", \"alone\", \"along\", \"already\", \"also\", \"although\", \"always\",\n",
    "    \"am\", \"among\", \"amongst\", \"amoungst\", \"amount\", \"an\", \"and\", \"another\",\n",
    "    \"any\", \"anyhow\", \"anyone\", \"anything\", \"anyway\", \"anywhere\", \"are\",\n",
    "    \"around\", \"as\", \"at\", \"back\", \"be\", \"became\", \"because\", \"become\",\n",
    "    \"becomes\", \"becoming\", \"been\", \"before\", \"beforehand\", \"behind\", \"being\",\n",
    "    \"below\", \"beside\", \"besides\", \"between\", \"beyond\", \"bill\", \"both\",\n",
    "    \"bottom\", \"but\", \"by\", \"call\", \"can\", \"cannot\", \"cant\", \"co\", \"con\",\n",
    "    \"could\", \"couldnt\", \"cry\", \"de\", \"describe\", \"detail\", \"do\", \"done\",\n",
    "    \"down\", \"due\", \"during\", \"each\", \"eg\", \"eight\", \"either\", \"eleven\", \"else\",\n",
    "    \"elsewhere\", \"empty\", \"enough\", \"etc\", \"even\", \"ever\", \"every\", \"everyone\",\n",
    "    \"everything\", \"everywhere\", \"except\", \"few\", \"fifteen\", \"fifty\", \"fill\",\n",
    "    \"find\", \"fire\", \"first\", \"five\", \"for\", \"former\", \"formerly\", \"forty\",\n",
    "    \"found\", \"four\", \"from\", \"front\", \"full\", \"further\", \"get\", \"give\", \"go\",\n",
    "    \"had\", \"has\", \"hasnt\", \"have\", \"he\", \"hence\", \"her\", \"here\", \"hereafter\",\n",
    "    \"hereby\", \"herein\", \"hereupon\", \"hers\", \"herself\", \"him\", \"himself\", \"his\",\n",
    "    \"how\", \"however\", \"hundred\", \"i\", \"ie\", \"if\", \"in\", \"inc\", \"indeed\",\n",
    "    \"interest\", \"into\", \"is\", \"it\", \"its\", \"itself\", \"keep\", \"last\", \"latter\",\n",
    "    \"latterly\", \"least\", \"less\", \"ltd\", \"made\", \"many\", \"may\", \"me\",\n",
    "    \"meanwhile\", \"might\", \"mill\", \"mine\", \"more\", \"moreover\", \"most\", \"mostly\",\n",
    "    \"move\", \"much\", \"must\", \"my\", \"myself\", \"name\", \"namely\", \"neither\",\n",
    "    \"never\", \"nevertheless\", \"next\", \"nine\", \"no\", \"nobody\", \"none\", \"noone\",\n",
    "    \"nor\", \"not\", \"nothing\", \"now\", \"nowhere\", \"of\", \"off\", \"often\", \"on\",\n",
    "    \"once\", \"one\", \"only\", \"onto\", \"or\", \"other\", \"others\", \"otherwise\", \"our\",\n",
    "    \"ours\", \"ourselves\", \"out\", \"over\", \"own\", \"part\", \"per\", \"perhaps\",\n",
    "    \"please\", \"put\", \"rather\", \"re\", \"same\", \"see\", \"seem\", \"seemed\",\n",
    "    \"seeming\", \"seems\", \"serious\", \"several\", \"she\", \"should\", \"show\", \"side\",\n",
    "    \"since\", \"sincere\", \"six\", \"sixty\", \"so\", \"some\", \"somehow\", \"someone\",\n",
    "    \"something\", \"sometime\", \"sometimes\", \"somewhere\", \"still\", \"such\",\n",
    "    \"system\", \"take\", \"ten\", \"than\", \"that\", \"the\", \"their\", \"them\",\n",
    "    \"themselves\", \"then\", \"thence\", \"there\", \"thereafter\", \"thereby\",\n",
    "    \"therefore\", \"therein\", \"thereupon\", \"these\", \"they\", \"thick\", \"thin\",\n",
    "    \"third\", \"this\", \"those\", \"though\", \"three\", \"through\", \"throughout\",\n",
    "    \"thru\", \"thus\", \"to\", \"together\", \"too\", \"top\", \"toward\", \"towards\",\n",
    "    \"twelve\", \"twenty\", \"two\", \"un\", \"under\", \"until\", \"up\", \"upon\", \"us\",\n",
    "    \"very\", \"via\", \"was\", \"we\", \"well\", \"were\", \"what\", \"whatever\", \"when\",\n",
    "    \"whence\", \"whenever\", \"where\", \"whereafter\", \"whereas\", \"whereby\",\n",
    "    \"wherein\", \"whereupon\", \"wherever\", \"whether\", \"which\", \"while\", \"whither\",\n",
    "    \"who\", \"whoever\", \"whole\", \"whom\", \"whose\", \"why\", \"will\", \"with\",\n",
    "    \"within\", \"without\", \"would\", \"yet\", \"said\",\"you\", \"your\", \"yours\", \"yourself\",\n",
    "    \"yourselves\"])\n",
    "\n",
    "wc=WordCloud(use_tfidf=False,stopwords=ENGLISH_STOP_WORDS)\n",
    "texts=['MEXICO CITY — Newly formed Hurricane Willa rapidly intensified off Mexico\\'s Pacific coast','MEXICO CITY — Newly formed Hurricane Willa rapidly intensified off Mexico\\'s Pacific coast Sunday and early Monday and became a major Category 5 storm, the U.S. National Hurricane Center said. As of 11 a.m. ET., Willa had maximum sustained winds of 160 mph -- just 3 mph over the threshold for a Category 5.    Willa was \"potentially catastrophic,\" forecasters warned. The hurricane center said it could make landfall along Mexico\\'s southwestern coast Tuesday afternoon or evening and bring with it a life-threatening storm surge -- especially near and to the south of where the center of Willa makes landfall.    Near the coast, the surge will be accompanied by large and destructive waves. Willa is also forecast to bring high winds and heavy rainfall.    \"Slight weakening is forecast to begin on Tuesday, but Willa is expected to be an extremely dangerous major hurricane when it reaches the coast of Mexico,\" the center said.    A map made by the U.S. National Hurricane Center shows the projected path for Hurricane Willa as of 11 a.m. ET on Oct. 22, 2018.   A map made by the U.S. National Hurricane Center shows the projected path for Hurricane Willa as of 11 a.m. ET on Oct. 22, 2018. NATIONAL HURRICANE CENTER  The center said Willa was about 175 miles south-southwest of Las Islas Marias, Mexico, and some 135 miles southwest of Cabo Corrientes, Mexico, and was moving north at about 7 mph.    Hurricane-force winds extended outward up to 30 miles from the center and tropical-storm-force winds extended outward up to 105 miles.    A hurricane warning was posted for a stretch of shore between San Blas and Mazatlan. A tropical storm warning was in effect for Playa Perula to San Blas and north of Mazatlan to Bahia Tempehuaya.    Forecasters said Willa is expected to produce storm total rainfall accumulations of 6 to 12 inches, with local amounts up to 18 inches, across portions of western Jalisco, western Nayarit, and southern Sinaloa in Mexico. The rainfall could cause life-threatening flash flooding and landslides.    Farther inland, Willa is expected to produce rainfall amounts of 2 to 4 inches across portions of Zacateca, Durango, southeast Chihuahua, and Coahuila in Mexico, with local amounts up to 6 inches possible. That could cause life-threatening flash flooding.    After Willa makes its way across Mexico, it could drop between 1 and 3 inches of rain on central and southern Texas during the middle of the week, CBS News contributing meteorologist Jeff Berardelli reports. The additional rainfall could cause additional flooding in already saturated areas.','early Monday and became a major Category 5 storm, the U.S. National Hurricane Center said. As of 11 a.m. ET., Willa had maximum sustained winds of 160 mph -- just 3 mph over the threshold for a Category 5.    Willa was \"potentially catastrophic,\" forecasters warned. The hurricane center said it could make landfall along Mexico\\'s southwestern coast Tuesday afternoon or evening and bring with it a life-threatening storm surge -- especially near and to the south of where the center of Willa makes landfall.    Near the coast, the surge will be accompanied by large and destructive waves. Willa is also forecast to bring high winds and heavy rainfall.    \"Slight weakening is forecast to begin on Tuesday, but Willa is expected to be an extremely dangerous major hurricane when it reaches the coast of Mexico,\" the center said.    A map made by the U.S. National Hurricane Center shows the projected path for Hurricane Willa as of 11 a.m. ET on Oct. 22, 2018.   A map made by the U.S. National Hurricane Center shows the projected path for Hurricane Willa as of 11 a.m. ET on Oct. 22, 2018. NATIONAL HURRICANE CENTER  The center said Willa was about 175 miles south-southwest of Las Islas Marias, Mexico, and some 135 miles southwest of Cabo Corrientes, Mexico, and was moving north at about 7 mph.    Hurricane-force winds extended outward up to 30 miles from the center and tropical-storm-force winds extended outward up to 105 miles.    A hurricane warning was posted for a stretch of shore between San Blas and Mazatlan. A tropical storm warning was in effect for Playa Perula to San Blas and north of Mazatlan to Bahia Tempehuaya.    Forecasters said Willa is expected to produce storm total rainfall accumulations of 6 to 12 inches, with local amounts up to 18 inches, across portions of western Jalisco, western Nayarit, and southern Sinaloa in Mexico. The rainfall could cause life-threatening flash flooding and landslides.    Farther inland, Willa is expected to produce rainfall amounts of 2 to 4 inches across portions of Zacateca, Durango, southeast Chihuahua, and Coahuila in Mexico, with local amounts up to 6 inches possible. That could cause life-threatening flash flooding.    After Willa makes its way across Mexico, it could drop between 1 and 3 inches of rain on central and southern Texas during the middle of the week, CBS News contributing meteorologist Jeff Berardelli reports. The additional rainfall could cause additional flooding in already saturated areas.']\n",
    "embed_code=wc.get_embed_code(text=texts,random_color=False,topn=50)\n",
    "HTML(embed_code)"
   ]
  },
  {
   "cell_type": "code",
   "execution_count": null,
   "metadata": {},
   "outputs": [],
   "source": []
  }
 ],
 "metadata": {
  "kernelspec": {
   "display_name": "Python 3",
   "language": "python",
   "name": "python3"
  },
  "language_info": {
   "codemirror_mode": {
    "name": "ipython",
    "version": 3
   },
   "file_extension": ".py",
   "mimetype": "text/x-python",
   "name": "python",
   "nbconvert_exporter": "python",
   "pygments_lexer": "ipython3",
   "version": "3.6.5"
  }
 },
 "nbformat": 4,
 "nbformat_minor": 1
}
